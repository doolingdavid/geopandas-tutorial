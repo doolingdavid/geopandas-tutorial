{
 "cells": [
  {
   "cell_type": "markdown",
   "metadata": {},
   "source": [
    "# Spatial joins"
   ]
  },
  {
   "cell_type": "markdown",
   "metadata": {
    "slideshow": {
     "slide_type": "fragment"
    }
   },
   "source": [
    "Goals of this notebook:\n",
    "\n",
    "- Based on the `countries` and `cities` dataframes, determine for each city the country in which it is located.\n",
    "- To solve this problem, we will use the the concept of a 'spatial join' operation: combining information of geospatial datasets based on their spatial relationship."
   ]
  },
  {
   "cell_type": "code",
   "execution_count": 2,
   "metadata": {},
   "outputs": [],
   "source": [
    "%matplotlib inline\n",
    "\n",
    "import pandas as pd\n",
    "import geopandas\n",
    "import matplotlib.pyplot as plt\n",
    "\n",
    "pd.options.display.max_rows = 10"
   ]
  },
  {
   "cell_type": "code",
   "execution_count": 3,
   "metadata": {},
   "outputs": [],
   "source": [
    "countries = geopandas.read_file(\"zip://./data/ne_110m_admin_0_countries.zip\")\n",
    "cities = geopandas.read_file(\"zip://./data/ne_110m_populated_places.zip\")\n",
    "rivers = geopandas.read_file(\"zip://./data/ne_50m_rivers_lake_centerlines.zip\")"
   ]
  },
  {
   "cell_type": "code",
   "execution_count": 6,
   "metadata": {},
   "outputs": [
    {
     "data": {
      "text/plain": [
       "({'init': 'epsg:4326'}, {'init': 'epsg:4326'}, {'init': 'epsg:4326'})"
      ]
     },
     "execution_count": 6,
     "metadata": {},
     "output_type": "execute_result"
    }
   ],
   "source": [
    "countries.crs, cities.crs, rivers.crs"
   ]
  },
  {
   "cell_type": "markdown",
   "metadata": {},
   "source": [
    "## Recap - joining dataframes\n",
    "\n",
    "Pandas provides functionality to join or merge dataframes in different ways, see https://chrisalbon.com/python/data_wrangling/pandas_join_merge_dataframe/ for an overview and https://pandas.pydata.org/pandas-docs/stable/merging.html for the full documentation."
   ]
  },
  {
   "cell_type": "markdown",
   "metadata": {},
   "source": [
    "To illustrate the concept of joining the information of two dataframes with pandas, let's take a small subset of our `cities` and `countries` datasets: "
   ]
  },
  {
   "cell_type": "code",
   "execution_count": 7,
   "metadata": {},
   "outputs": [],
   "source": [
    "cities2 = cities[cities['name'].isin(['Bern', 'Brussels', 'London', 'Paris'])].copy()\n",
    "cities2['iso_a3'] = ['CHE', 'BEL', 'GBR', 'FRA']"
   ]
  },
  {
   "cell_type": "code",
   "execution_count": 8,
   "metadata": {},
   "outputs": [
    {
     "data": {
      "text/html": [
       "<div>\n",
       "<style scoped>\n",
       "    .dataframe tbody tr th:only-of-type {\n",
       "        vertical-align: middle;\n",
       "    }\n",
       "\n",
       "    .dataframe tbody tr th {\n",
       "        vertical-align: top;\n",
       "    }\n",
       "\n",
       "    .dataframe thead th {\n",
       "        text-align: right;\n",
       "    }\n",
       "</style>\n",
       "<table border=\"1\" class=\"dataframe\">\n",
       "  <thead>\n",
       "    <tr style=\"text-align: right;\">\n",
       "      <th></th>\n",
       "      <th>name</th>\n",
       "      <th>geometry</th>\n",
       "      <th>iso_a3</th>\n",
       "    </tr>\n",
       "  </thead>\n",
       "  <tbody>\n",
       "    <tr>\n",
       "      <th>26</th>\n",
       "      <td>Bern</td>\n",
       "      <td>POINT (7.466975462482424 46.91668275866772)</td>\n",
       "      <td>CHE</td>\n",
       "    </tr>\n",
       "    <tr>\n",
       "      <th>170</th>\n",
       "      <td>Brussels</td>\n",
       "      <td>POINT (4.33137074969045 50.83526293533032)</td>\n",
       "      <td>BEL</td>\n",
       "    </tr>\n",
       "    <tr>\n",
       "      <th>219</th>\n",
       "      <td>London</td>\n",
       "      <td>POINT (-0.1186677024759319 51.5019405883275)</td>\n",
       "      <td>GBR</td>\n",
       "    </tr>\n",
       "    <tr>\n",
       "      <th>235</th>\n",
       "      <td>Paris</td>\n",
       "      <td>POINT (2.33138946713035 48.86863878981461)</td>\n",
       "      <td>FRA</td>\n",
       "    </tr>\n",
       "  </tbody>\n",
       "</table>\n",
       "</div>"
      ],
      "text/plain": [
       "         name                                      geometry iso_a3\n",
       "26       Bern   POINT (7.466975462482424 46.91668275866772)    CHE\n",
       "170  Brussels    POINT (4.33137074969045 50.83526293533032)    BEL\n",
       "219    London  POINT (-0.1186677024759319 51.5019405883275)    GBR\n",
       "235     Paris    POINT (2.33138946713035 48.86863878981461)    FRA"
      ]
     },
     "execution_count": 8,
     "metadata": {},
     "output_type": "execute_result"
    }
   ],
   "source": [
    "cities2"
   ]
  },
  {
   "cell_type": "code",
   "execution_count": 9,
   "metadata": {},
   "outputs": [
    {
     "data": {
      "text/html": [
       "<div>\n",
       "<style scoped>\n",
       "    .dataframe tbody tr th:only-of-type {\n",
       "        vertical-align: middle;\n",
       "    }\n",
       "\n",
       "    .dataframe tbody tr th {\n",
       "        vertical-align: top;\n",
       "    }\n",
       "\n",
       "    .dataframe thead th {\n",
       "        text-align: right;\n",
       "    }\n",
       "</style>\n",
       "<table border=\"1\" class=\"dataframe\">\n",
       "  <thead>\n",
       "    <tr style=\"text-align: right;\">\n",
       "      <th></th>\n",
       "      <th>iso_a3</th>\n",
       "      <th>name</th>\n",
       "      <th>continent</th>\n",
       "    </tr>\n",
       "  </thead>\n",
       "  <tbody>\n",
       "    <tr>\n",
       "      <th>0</th>\n",
       "      <td>AFG</td>\n",
       "      <td>Afghanistan</td>\n",
       "      <td>Asia</td>\n",
       "    </tr>\n",
       "    <tr>\n",
       "      <th>1</th>\n",
       "      <td>AGO</td>\n",
       "      <td>Angola</td>\n",
       "      <td>Africa</td>\n",
       "    </tr>\n",
       "    <tr>\n",
       "      <th>2</th>\n",
       "      <td>ALB</td>\n",
       "      <td>Albania</td>\n",
       "      <td>Europe</td>\n",
       "    </tr>\n",
       "    <tr>\n",
       "      <th>3</th>\n",
       "      <td>ARE</td>\n",
       "      <td>United Arab Emirates</td>\n",
       "      <td>Asia</td>\n",
       "    </tr>\n",
       "    <tr>\n",
       "      <th>4</th>\n",
       "      <td>ARG</td>\n",
       "      <td>Argentina</td>\n",
       "      <td>South America</td>\n",
       "    </tr>\n",
       "  </tbody>\n",
       "</table>\n",
       "</div>"
      ],
      "text/plain": [
       "  iso_a3                  name      continent\n",
       "0    AFG           Afghanistan           Asia\n",
       "1    AGO                Angola         Africa\n",
       "2    ALB               Albania         Europe\n",
       "3    ARE  United Arab Emirates           Asia\n",
       "4    ARG             Argentina  South America"
      ]
     },
     "execution_count": 9,
     "metadata": {},
     "output_type": "execute_result"
    }
   ],
   "source": [
    "countries2 = countries[['iso_a3', 'name', 'continent']]\n",
    "countries2.head()"
   ]
  },
  {
   "cell_type": "markdown",
   "metadata": {},
   "source": [
    "We added a 'iso_a3' column to the `cities` dataset, indicating a code of the country of the city. This country code is also present in the `countries` dataset, which allows us to merge those two dataframes based on the common column.\n",
    "\n",
    "Joining the `cities` dataframe with `countries` will transfer extra information about the countries (the full name, the continent) to the `cities` dataframe, based on a common key:"
   ]
  },
  {
   "cell_type": "code",
   "execution_count": 10,
   "metadata": {},
   "outputs": [
    {
     "data": {
      "text/html": [
       "<div>\n",
       "<style scoped>\n",
       "    .dataframe tbody tr th:only-of-type {\n",
       "        vertical-align: middle;\n",
       "    }\n",
       "\n",
       "    .dataframe tbody tr th {\n",
       "        vertical-align: top;\n",
       "    }\n",
       "\n",
       "    .dataframe thead th {\n",
       "        text-align: right;\n",
       "    }\n",
       "</style>\n",
       "<table border=\"1\" class=\"dataframe\">\n",
       "  <thead>\n",
       "    <tr style=\"text-align: right;\">\n",
       "      <th></th>\n",
       "      <th>name_x</th>\n",
       "      <th>geometry</th>\n",
       "      <th>iso_a3</th>\n",
       "      <th>name_y</th>\n",
       "      <th>continent</th>\n",
       "    </tr>\n",
       "  </thead>\n",
       "  <tbody>\n",
       "    <tr>\n",
       "      <th>0</th>\n",
       "      <td>Bern</td>\n",
       "      <td>POINT (7.466975462482424 46.91668275866772)</td>\n",
       "      <td>CHE</td>\n",
       "      <td>Switzerland</td>\n",
       "      <td>Europe</td>\n",
       "    </tr>\n",
       "    <tr>\n",
       "      <th>1</th>\n",
       "      <td>Brussels</td>\n",
       "      <td>POINT (4.33137074969045 50.83526293533032)</td>\n",
       "      <td>BEL</td>\n",
       "      <td>Belgium</td>\n",
       "      <td>Europe</td>\n",
       "    </tr>\n",
       "    <tr>\n",
       "      <th>2</th>\n",
       "      <td>London</td>\n",
       "      <td>POINT (-0.1186677024759319 51.5019405883275)</td>\n",
       "      <td>GBR</td>\n",
       "      <td>United Kingdom</td>\n",
       "      <td>Europe</td>\n",
       "    </tr>\n",
       "    <tr>\n",
       "      <th>3</th>\n",
       "      <td>Paris</td>\n",
       "      <td>POINT (2.33138946713035 48.86863878981461)</td>\n",
       "      <td>FRA</td>\n",
       "      <td>France</td>\n",
       "      <td>Europe</td>\n",
       "    </tr>\n",
       "  </tbody>\n",
       "</table>\n",
       "</div>"
      ],
      "text/plain": [
       "     name_x                                      geometry iso_a3  \\\n",
       "0      Bern   POINT (7.466975462482424 46.91668275866772)    CHE   \n",
       "1  Brussels    POINT (4.33137074969045 50.83526293533032)    BEL   \n",
       "2    London  POINT (-0.1186677024759319 51.5019405883275)    GBR   \n",
       "3     Paris    POINT (2.33138946713035 48.86863878981461)    FRA   \n",
       "\n",
       "           name_y continent  \n",
       "0     Switzerland    Europe  \n",
       "1         Belgium    Europe  \n",
       "2  United Kingdom    Europe  \n",
       "3          France    Europe  "
      ]
     },
     "execution_count": 10,
     "metadata": {},
     "output_type": "execute_result"
    }
   ],
   "source": [
    "cities2.merge(countries2, on='iso_a3')"
   ]
  },
  {
   "cell_type": "markdown",
   "metadata": {},
   "source": [
    "**But**, for this illustrative example, we added the common column manually, it is not present in the original dataset. However, we can still know how to join those two datasets based on their spatial coordinates."
   ]
  },
  {
   "cell_type": "markdown",
   "metadata": {},
   "source": [
    "## Recap - spatial relationships between objects\n",
    "\n",
    "In the previous notebook [02-spatial-relationships.ipynb](./02-spatial-relationships-operations.ipynb), we have seen the notion of spatial relationships between geometry objects: within, contains, intersects, ...\n",
    "\n",
    "In this case, we know that each of the cities is located *within* one of the countries, or the other way around that each country can *contain* multiple cities.\n",
    "\n",
    "We can test such relationships using the methods we have seen in the previous notebook:"
   ]
  },
  {
   "cell_type": "code",
   "execution_count": 11,
   "metadata": {},
   "outputs": [],
   "source": [
    "france = countries.loc[countries['name'] == 'France', 'geometry'].squeeze()"
   ]
  },
  {
   "cell_type": "code",
   "execution_count": 12,
   "metadata": {},
   "outputs": [
    {
     "data": {
      "text/plain": [
       "0      False\n",
       "1      False\n",
       "2      False\n",
       "3      False\n",
       "4      False\n",
       "       ...  \n",
       "238    False\n",
       "239    False\n",
       "240    False\n",
       "241    False\n",
       "242    False\n",
       "Length: 243, dtype: bool"
      ]
     },
     "execution_count": 12,
     "metadata": {},
     "output_type": "execute_result"
    }
   ],
   "source": [
    "cities.within(france)"
   ]
  },
  {
   "cell_type": "markdown",
   "metadata": {},
   "source": [
    "The above gives us a boolean series, indicating for each point in our `cities` dataframe whether it is located within the area of France or not.  \n",
    "Because this is a boolean series as result, we can use it to filter the original dataframe to only show those cities that are actually within France:"
   ]
  },
  {
   "cell_type": "code",
   "execution_count": 13,
   "metadata": {},
   "outputs": [
    {
     "data": {
      "text/html": [
       "<div>\n",
       "<style scoped>\n",
       "    .dataframe tbody tr th:only-of-type {\n",
       "        vertical-align: middle;\n",
       "    }\n",
       "\n",
       "    .dataframe tbody tr th {\n",
       "        vertical-align: top;\n",
       "    }\n",
       "\n",
       "    .dataframe thead th {\n",
       "        text-align: right;\n",
       "    }\n",
       "</style>\n",
       "<table border=\"1\" class=\"dataframe\">\n",
       "  <thead>\n",
       "    <tr style=\"text-align: right;\">\n",
       "      <th></th>\n",
       "      <th>name</th>\n",
       "      <th>geometry</th>\n",
       "    </tr>\n",
       "  </thead>\n",
       "  <tbody>\n",
       "    <tr>\n",
       "      <th>10</th>\n",
       "      <td>Monaco</td>\n",
       "      <td>POINT (7.406913173465057 43.73964568785249)</td>\n",
       "    </tr>\n",
       "    <tr>\n",
       "      <th>13</th>\n",
       "      <td>Andorra</td>\n",
       "      <td>POINT (1.51648596050552 42.5000014435459)</td>\n",
       "    </tr>\n",
       "    <tr>\n",
       "      <th>186</th>\n",
       "      <td>Geneva</td>\n",
       "      <td>POINT (6.140028034091699 46.21000754707626)</td>\n",
       "    </tr>\n",
       "    <tr>\n",
       "      <th>235</th>\n",
       "      <td>Paris</td>\n",
       "      <td>POINT (2.33138946713035 48.86863878981461)</td>\n",
       "    </tr>\n",
       "  </tbody>\n",
       "</table>\n",
       "</div>"
      ],
      "text/plain": [
       "        name                                     geometry\n",
       "10    Monaco  POINT (7.406913173465057 43.73964568785249)\n",
       "13   Andorra    POINT (1.51648596050552 42.5000014435459)\n",
       "186   Geneva  POINT (6.140028034091699 46.21000754707626)\n",
       "235    Paris   POINT (2.33138946713035 48.86863878981461)"
      ]
     },
     "execution_count": 13,
     "metadata": {},
     "output_type": "execute_result"
    }
   ],
   "source": [
    "cities[cities.within(france)]"
   ]
  },
  {
   "cell_type": "code",
   "execution_count": 16,
   "metadata": {},
   "outputs": [
    {
     "data": {
      "text/html": [
       "<div>\n",
       "<style scoped>\n",
       "    .dataframe tbody tr th:only-of-type {\n",
       "        vertical-align: middle;\n",
       "    }\n",
       "\n",
       "    .dataframe tbody tr th {\n",
       "        vertical-align: top;\n",
       "    }\n",
       "\n",
       "    .dataframe thead th {\n",
       "        text-align: right;\n",
       "    }\n",
       "</style>\n",
       "<table border=\"1\" class=\"dataframe\">\n",
       "  <thead>\n",
       "    <tr style=\"text-align: right;\">\n",
       "      <th></th>\n",
       "      <th>iso_a3</th>\n",
       "      <th>name</th>\n",
       "      <th>continent</th>\n",
       "      <th>pop_est</th>\n",
       "      <th>gdp_md_est</th>\n",
       "      <th>geometry</th>\n",
       "    </tr>\n",
       "  </thead>\n",
       "  <tbody>\n",
       "    <tr>\n",
       "      <th>168</th>\n",
       "      <td>USA</td>\n",
       "      <td>United States of America</td>\n",
       "      <td>North America</td>\n",
       "      <td>326625791.0</td>\n",
       "      <td>18560000.0</td>\n",
       "      <td>(POLYGON ((-122.84 49.00000000000014, -120 49....</td>\n",
       "    </tr>\n",
       "  </tbody>\n",
       "</table>\n",
       "</div>"
      ],
      "text/plain": [
       "    iso_a3                      name      continent      pop_est  gdp_md_est  \\\n",
       "168    USA  United States of America  North America  326625791.0  18560000.0   \n",
       "\n",
       "                                              geometry  \n",
       "168  (POLYGON ((-122.84 49.00000000000014, -120 49....  "
      ]
     },
     "execution_count": 16,
     "metadata": {},
     "output_type": "execute_result"
    }
   ],
   "source": [
    "usa = countries[countries['name'].str.contains('America',case=False,na=False)]\n",
    "usa"
   ]
  },
  {
   "cell_type": "code",
   "execution_count": 20,
   "metadata": {},
   "outputs": [
    {
     "data": {
      "text/plain": [
       "(243, 2)"
      ]
     },
     "execution_count": 20,
     "metadata": {},
     "output_type": "execute_result"
    }
   ],
   "source": [
    "cities.shape"
   ]
  },
  {
   "cell_type": "markdown",
   "metadata": {},
   "source": [
    "We could now repeat the above analysis for each of the countries, and add a column to the `cities` dataframe indicating this country. However, that would be tedious to do manually, and is also exactly what the spatial join operation provides us.\n",
    "\n",
    "*(note: the above result is incorrect, but this is just because of the coarse-ness of the countries dataset)*"
   ]
  },
  {
   "cell_type": "markdown",
   "metadata": {
    "slideshow": {
     "slide_type": "slide"
    }
   },
   "source": [
    "## Spatial join operation\n",
    "\n",
    "<div class=\"alert alert-info\" style=\"font-size:120%\">\n",
    "<b>SPATIAL JOIN</b> = *transferring attributes from one layer to another based on their spatial relationship* <br><br>\n",
    "\n",
    "\n",
    "Different parts of this operations:\n",
    "\n",
    "<ul>\n",
    "  <li>The GeoDataFrame to which we want add information</li>\n",
    "  <li>The GeoDataFrame that contains the information we want to add </li>\n",
    "  <li>The spatial relationship we want to use to match both datasets ('intersects', 'contains', 'within')</li>\n",
    "  <li>The type of join: left or inner join</li>\n",
    "</ul>\n",
    "\n",
    "</div>"
   ]
  },
  {
   "cell_type": "markdown",
   "metadata": {
    "slideshow": {
     "slide_type": "-"
    }
   },
   "source": [
    "In this case, we want to join the `cities` dataframe with the information of the `countries` dataframe, based on the spatial relationship between both datasets.\n",
    "\n",
    "We use the [`geopandas.sjoin`](http://geopandas.readthedocs.io/en/latest/reference/geopandas.sjoin.html) function:"
   ]
  },
  {
   "cell_type": "code",
   "execution_count": 21,
   "metadata": {},
   "outputs": [],
   "source": [
    "joined = geopandas.sjoin(cities, countries, op='within', how='left')"
   ]
  },
  {
   "cell_type": "code",
   "execution_count": 22,
   "metadata": {},
   "outputs": [
    {
     "data": {
      "text/html": [
       "<div>\n",
       "<style scoped>\n",
       "    .dataframe tbody tr th:only-of-type {\n",
       "        vertical-align: middle;\n",
       "    }\n",
       "\n",
       "    .dataframe tbody tr th {\n",
       "        vertical-align: top;\n",
       "    }\n",
       "\n",
       "    .dataframe thead th {\n",
       "        text-align: right;\n",
       "    }\n",
       "</style>\n",
       "<table border=\"1\" class=\"dataframe\">\n",
       "  <thead>\n",
       "    <tr style=\"text-align: right;\">\n",
       "      <th></th>\n",
       "      <th>name_left</th>\n",
       "      <th>geometry</th>\n",
       "      <th>index_right</th>\n",
       "      <th>iso_a3</th>\n",
       "      <th>name_right</th>\n",
       "      <th>continent</th>\n",
       "      <th>pop_est</th>\n",
       "      <th>gdp_md_est</th>\n",
       "    </tr>\n",
       "  </thead>\n",
       "  <tbody>\n",
       "    <tr>\n",
       "      <th>0</th>\n",
       "      <td>Vatican City</td>\n",
       "      <td>POINT (12.45338654497177 41.90328217996012)</td>\n",
       "      <td>79.0</td>\n",
       "      <td>ITA</td>\n",
       "      <td>Italy</td>\n",
       "      <td>Europe</td>\n",
       "      <td>6.213780e+07</td>\n",
       "      <td>2221000.0</td>\n",
       "    </tr>\n",
       "    <tr>\n",
       "      <th>1</th>\n",
       "      <td>San Marino</td>\n",
       "      <td>POINT (12.44177015780014 43.936095834768)</td>\n",
       "      <td>79.0</td>\n",
       "      <td>ITA</td>\n",
       "      <td>Italy</td>\n",
       "      <td>Europe</td>\n",
       "      <td>6.213780e+07</td>\n",
       "      <td>2221000.0</td>\n",
       "    </tr>\n",
       "    <tr>\n",
       "      <th>2</th>\n",
       "      <td>Vaduz</td>\n",
       "      <td>POINT (9.516669472907267 47.13372377429357)</td>\n",
       "      <td>9.0</td>\n",
       "      <td>AUT</td>\n",
       "      <td>Austria</td>\n",
       "      <td>Europe</td>\n",
       "      <td>8.754413e+06</td>\n",
       "      <td>416600.0</td>\n",
       "    </tr>\n",
       "    <tr>\n",
       "      <th>3</th>\n",
       "      <td>Lobamba</td>\n",
       "      <td>POINT (31.19999710971274 -26.46666746135247)</td>\n",
       "      <td>152.0</td>\n",
       "      <td>SWZ</td>\n",
       "      <td>Swaziland</td>\n",
       "      <td>Africa</td>\n",
       "      <td>1.467152e+06</td>\n",
       "      <td>11060.0</td>\n",
       "    </tr>\n",
       "    <tr>\n",
       "      <th>4</th>\n",
       "      <td>Luxembourg</td>\n",
       "      <td>POINT (6.130002806227083 49.61166037912108)</td>\n",
       "      <td>97.0</td>\n",
       "      <td>LUX</td>\n",
       "      <td>Luxembourg</td>\n",
       "      <td>Europe</td>\n",
       "      <td>5.941300e+05</td>\n",
       "      <td>58740.0</td>\n",
       "    </tr>\n",
       "    <tr>\n",
       "      <th>...</th>\n",
       "      <td>...</td>\n",
       "      <td>...</td>\n",
       "      <td>...</td>\n",
       "      <td>...</td>\n",
       "      <td>...</td>\n",
       "      <td>...</td>\n",
       "      <td>...</td>\n",
       "      <td>...</td>\n",
       "    </tr>\n",
       "    <tr>\n",
       "      <th>238</th>\n",
       "      <td>Rio de Janeiro</td>\n",
       "      <td>POINT (-43.22696665284366 -22.92307731561596)</td>\n",
       "      <td>22.0</td>\n",
       "      <td>BRA</td>\n",
       "      <td>Brazil</td>\n",
       "      <td>South America</td>\n",
       "      <td>2.073534e+08</td>\n",
       "      <td>3081000.0</td>\n",
       "    </tr>\n",
       "    <tr>\n",
       "      <th>239</th>\n",
       "      <td>São Paulo</td>\n",
       "      <td>POINT (-46.62696583905523 -23.55673372837896)</td>\n",
       "      <td>22.0</td>\n",
       "      <td>BRA</td>\n",
       "      <td>Brazil</td>\n",
       "      <td>South America</td>\n",
       "      <td>2.073534e+08</td>\n",
       "      <td>3081000.0</td>\n",
       "    </tr>\n",
       "    <tr>\n",
       "      <th>240</th>\n",
       "      <td>Sydney</td>\n",
       "      <td>POINT (151.1832339501475 -33.91806510862875)</td>\n",
       "      <td>8.0</td>\n",
       "      <td>AUS</td>\n",
       "      <td>Australia</td>\n",
       "      <td>Oceania</td>\n",
       "      <td>2.323241e+07</td>\n",
       "      <td>1189000.0</td>\n",
       "    </tr>\n",
       "    <tr>\n",
       "      <th>241</th>\n",
       "      <td>Singapore</td>\n",
       "      <td>POINT (103.853874819099 1.294979325105942)</td>\n",
       "      <td>111.0</td>\n",
       "      <td>MYS</td>\n",
       "      <td>Malaysia</td>\n",
       "      <td>Asia</td>\n",
       "      <td>3.138199e+07</td>\n",
       "      <td>863000.0</td>\n",
       "    </tr>\n",
       "    <tr>\n",
       "      <th>242</th>\n",
       "      <td>Hong Kong</td>\n",
       "      <td>POINT (114.183063458463 22.30692675357551)</td>\n",
       "      <td>30.0</td>\n",
       "      <td>CHN</td>\n",
       "      <td>China</td>\n",
       "      <td>Asia</td>\n",
       "      <td>1.379303e+09</td>\n",
       "      <td>21140000.0</td>\n",
       "    </tr>\n",
       "  </tbody>\n",
       "</table>\n",
       "<p>243 rows × 8 columns</p>\n",
       "</div>"
      ],
      "text/plain": [
       "          name_left                                       geometry  \\\n",
       "0      Vatican City    POINT (12.45338654497177 41.90328217996012)   \n",
       "1        San Marino      POINT (12.44177015780014 43.936095834768)   \n",
       "2             Vaduz    POINT (9.516669472907267 47.13372377429357)   \n",
       "3           Lobamba   POINT (31.19999710971274 -26.46666746135247)   \n",
       "4        Luxembourg    POINT (6.130002806227083 49.61166037912108)   \n",
       "..              ...                                            ...   \n",
       "238  Rio de Janeiro  POINT (-43.22696665284366 -22.92307731561596)   \n",
       "239       São Paulo  POINT (-46.62696583905523 -23.55673372837896)   \n",
       "240          Sydney   POINT (151.1832339501475 -33.91806510862875)   \n",
       "241       Singapore     POINT (103.853874819099 1.294979325105942)   \n",
       "242       Hong Kong     POINT (114.183063458463 22.30692675357551)   \n",
       "\n",
       "     index_right iso_a3  name_right      continent       pop_est  gdp_md_est  \n",
       "0           79.0    ITA       Italy         Europe  6.213780e+07   2221000.0  \n",
       "1           79.0    ITA       Italy         Europe  6.213780e+07   2221000.0  \n",
       "2            9.0    AUT     Austria         Europe  8.754413e+06    416600.0  \n",
       "3          152.0    SWZ   Swaziland         Africa  1.467152e+06     11060.0  \n",
       "4           97.0    LUX  Luxembourg         Europe  5.941300e+05     58740.0  \n",
       "..           ...    ...         ...            ...           ...         ...  \n",
       "238         22.0    BRA      Brazil  South America  2.073534e+08   3081000.0  \n",
       "239         22.0    BRA      Brazil  South America  2.073534e+08   3081000.0  \n",
       "240          8.0    AUS   Australia        Oceania  2.323241e+07   1189000.0  \n",
       "241        111.0    MYS    Malaysia           Asia  3.138199e+07    863000.0  \n",
       "242         30.0    CHN       China           Asia  1.379303e+09  21140000.0  \n",
       "\n",
       "[243 rows x 8 columns]"
      ]
     },
     "execution_count": 22,
     "metadata": {},
     "output_type": "execute_result"
    }
   ],
   "source": [
    "joined"
   ]
  },
  {
   "cell_type": "code",
   "execution_count": 23,
   "metadata": {},
   "outputs": [
    {
     "data": {
      "text/plain": [
       "Asia             59\n",
       "Africa           57\n",
       "Europe           46\n",
       "North America    26\n",
       "South America    14\n",
       "Oceania           8\n",
       "Name: continent, dtype: int64"
      ]
     },
     "execution_count": 23,
     "metadata": {},
     "output_type": "execute_result"
    }
   ],
   "source": [
    "joined['continent'].value_counts()"
   ]
  },
  {
   "cell_type": "code",
   "execution_count": 24,
   "metadata": {},
   "outputs": [
    {
     "data": {
      "text/html": [
       "<div>\n",
       "<style scoped>\n",
       "    .dataframe tbody tr th:only-of-type {\n",
       "        vertical-align: middle;\n",
       "    }\n",
       "\n",
       "    .dataframe tbody tr th {\n",
       "        vertical-align: top;\n",
       "    }\n",
       "\n",
       "    .dataframe thead th {\n",
       "        text-align: right;\n",
       "    }\n",
       "</style>\n",
       "<table border=\"1\" class=\"dataframe\">\n",
       "  <thead>\n",
       "    <tr style=\"text-align: right;\">\n",
       "      <th></th>\n",
       "      <th>name_left</th>\n",
       "      <th>geometry</th>\n",
       "      <th>index_right</th>\n",
       "      <th>iso_a3</th>\n",
       "      <th>name_right</th>\n",
       "      <th>continent</th>\n",
       "      <th>pop_est</th>\n",
       "      <th>gdp_md_est</th>\n",
       "    </tr>\n",
       "  </thead>\n",
       "  <tbody>\n",
       "    <tr>\n",
       "      <th>14</th>\n",
       "      <td>Port-of-Spain</td>\n",
       "      <td>POINT (-61.51703088544974 10.65199708957726)</td>\n",
       "      <td>160.0</td>\n",
       "      <td>TTO</td>\n",
       "      <td>Trinidad and Tobago</td>\n",
       "      <td>North America</td>\n",
       "      <td>1218208.0</td>\n",
       "      <td>43570.0</td>\n",
       "    </tr>\n",
       "    <tr>\n",
       "      <th>54</th>\n",
       "      <td>Tegucigalpa</td>\n",
       "      <td>POINT (-87.21947519794151 14.1039907590764)</td>\n",
       "      <td>68.0</td>\n",
       "      <td>HND</td>\n",
       "      <td>Honduras</td>\n",
       "      <td>North America</td>\n",
       "      <td>9038741.0</td>\n",
       "      <td>43190.0</td>\n",
       "    </tr>\n",
       "    <tr>\n",
       "      <th>57</th>\n",
       "      <td>Port-au-Prince</td>\n",
       "      <td>POINT (-72.33798044690553 18.54297045473237)</td>\n",
       "      <td>70.0</td>\n",
       "      <td>HTI</td>\n",
       "      <td>Haiti</td>\n",
       "      <td>North America</td>\n",
       "      <td>10646714.0</td>\n",
       "      <td>19340.0</td>\n",
       "    </tr>\n",
       "    <tr>\n",
       "      <th>63</th>\n",
       "      <td>Managua</td>\n",
       "      <td>POINT (-86.27043751890119 12.15496243875612)</td>\n",
       "      <td>116.0</td>\n",
       "      <td>NIC</td>\n",
       "      <td>Nicaragua</td>\n",
       "      <td>North America</td>\n",
       "      <td>6025951.0</td>\n",
       "      <td>33550.0</td>\n",
       "    </tr>\n",
       "    <tr>\n",
       "      <th>71</th>\n",
       "      <td>Panama City</td>\n",
       "      <td>POINT (-79.53498301041077 8.969963049094872)</td>\n",
       "      <td>123.0</td>\n",
       "      <td>PAN</td>\n",
       "      <td>Panama</td>\n",
       "      <td>North America</td>\n",
       "      <td>3753142.0</td>\n",
       "      <td>93120.0</td>\n",
       "    </tr>\n",
       "    <tr>\n",
       "      <th>...</th>\n",
       "      <td>...</td>\n",
       "      <td>...</td>\n",
       "      <td>...</td>\n",
       "      <td>...</td>\n",
       "      <td>...</td>\n",
       "      <td>...</td>\n",
       "      <td>...</td>\n",
       "      <td>...</td>\n",
       "    </tr>\n",
       "    <tr>\n",
       "      <th>209</th>\n",
       "      <td>Toronto</td>\n",
       "      <td>POINT (-79.42196665298843 43.70192573640844)</td>\n",
       "      <td>27.0</td>\n",
       "      <td>CAN</td>\n",
       "      <td>Canada</td>\n",
       "      <td>North America</td>\n",
       "      <td>35623680.0</td>\n",
       "      <td>1674000.0</td>\n",
       "    </tr>\n",
       "    <tr>\n",
       "      <th>216</th>\n",
       "      <td>Los Angeles</td>\n",
       "      <td>POINT (-118.1819263699404 33.99192410876543)</td>\n",
       "      <td>168.0</td>\n",
       "      <td>USA</td>\n",
       "      <td>United States of America</td>\n",
       "      <td>North America</td>\n",
       "      <td>326625791.0</td>\n",
       "      <td>18560000.0</td>\n",
       "    </tr>\n",
       "    <tr>\n",
       "      <th>217</th>\n",
       "      <td>Washington, D.C.</td>\n",
       "      <td>POINT (-77.01136443943716 38.90149523508705)</td>\n",
       "      <td>168.0</td>\n",
       "      <td>USA</td>\n",
       "      <td>United States of America</td>\n",
       "      <td>North America</td>\n",
       "      <td>326625791.0</td>\n",
       "      <td>18560000.0</td>\n",
       "    </tr>\n",
       "    <tr>\n",
       "      <th>218</th>\n",
       "      <td>New York</td>\n",
       "      <td>POINT (-73.98196278740681 40.75192492259464)</td>\n",
       "      <td>168.0</td>\n",
       "      <td>USA</td>\n",
       "      <td>United States of America</td>\n",
       "      <td>North America</td>\n",
       "      <td>326625791.0</td>\n",
       "      <td>18560000.0</td>\n",
       "    </tr>\n",
       "    <tr>\n",
       "      <th>224</th>\n",
       "      <td>Mexico City</td>\n",
       "      <td>POINT (-99.13293406029391 19.44438830141547)</td>\n",
       "      <td>102.0</td>\n",
       "      <td>MEX</td>\n",
       "      <td>Mexico</td>\n",
       "      <td>North America</td>\n",
       "      <td>124574795.0</td>\n",
       "      <td>2307000.0</td>\n",
       "    </tr>\n",
       "  </tbody>\n",
       "</table>\n",
       "<p>26 rows × 8 columns</p>\n",
       "</div>"
      ],
      "text/plain": [
       "            name_left                                      geometry  \\\n",
       "14      Port-of-Spain  POINT (-61.51703088544974 10.65199708957726)   \n",
       "54        Tegucigalpa   POINT (-87.21947519794151 14.1039907590764)   \n",
       "57     Port-au-Prince  POINT (-72.33798044690553 18.54297045473237)   \n",
       "63            Managua  POINT (-86.27043751890119 12.15496243875612)   \n",
       "71        Panama City  POINT (-79.53498301041077 8.969963049094872)   \n",
       "..                ...                                           ...   \n",
       "209           Toronto  POINT (-79.42196665298843 43.70192573640844)   \n",
       "216       Los Angeles  POINT (-118.1819263699404 33.99192410876543)   \n",
       "217  Washington, D.C.  POINT (-77.01136443943716 38.90149523508705)   \n",
       "218          New York  POINT (-73.98196278740681 40.75192492259464)   \n",
       "224       Mexico City  POINT (-99.13293406029391 19.44438830141547)   \n",
       "\n",
       "     index_right iso_a3                name_right      continent      pop_est  \\\n",
       "14         160.0    TTO       Trinidad and Tobago  North America    1218208.0   \n",
       "54          68.0    HND                  Honduras  North America    9038741.0   \n",
       "57          70.0    HTI                     Haiti  North America   10646714.0   \n",
       "63         116.0    NIC                 Nicaragua  North America    6025951.0   \n",
       "71         123.0    PAN                    Panama  North America    3753142.0   \n",
       "..           ...    ...                       ...            ...          ...   \n",
       "209         27.0    CAN                    Canada  North America   35623680.0   \n",
       "216        168.0    USA  United States of America  North America  326625791.0   \n",
       "217        168.0    USA  United States of America  North America  326625791.0   \n",
       "218        168.0    USA  United States of America  North America  326625791.0   \n",
       "224        102.0    MEX                    Mexico  North America  124574795.0   \n",
       "\n",
       "     gdp_md_est  \n",
       "14      43570.0  \n",
       "54      43190.0  \n",
       "57      19340.0  \n",
       "63      33550.0  \n",
       "71      93120.0  \n",
       "..          ...  \n",
       "209   1674000.0  \n",
       "216  18560000.0  \n",
       "217  18560000.0  \n",
       "218  18560000.0  \n",
       "224   2307000.0  \n",
       "\n",
       "[26 rows x 8 columns]"
      ]
     },
     "execution_count": 24,
     "metadata": {},
     "output_type": "execute_result"
    }
   ],
   "source": [
    "joined[joined.continent.str.contains('North',\n",
    "                                    case=False,na=False)]"
   ]
  },
  {
   "cell_type": "markdown",
   "metadata": {},
   "source": [
    "## Lets's practice!\n",
    "\n",
    "We will again use the Paris datasets to do some exercises. Let's start importing them again:"
   ]
  },
  {
   "cell_type": "code",
   "execution_count": 25,
   "metadata": {},
   "outputs": [],
   "source": [
    "districts = geopandas.read_file(\"data/paris_districts_utm.geojson\")\n",
    "stations = geopandas.read_file(\"data/paris_sharing_bike_stations_utm.geojson\")"
   ]
  },
  {
   "cell_type": "markdown",
   "metadata": {},
   "source": [
    "<div class=\"alert alert-success\">\n",
    " <b>EXERCISE: Make a plot of the density of bike stations by district</b>\n",
    " <p>\n",
    " <ul>\n",
    "  <li>Determine for each bike station in which district it is located (using a spatial join!). Call the result `joined`.</li>\n",
    "  <li>Based on this result, calculate the number of bike stations in each district (e.g. using `groupby` method; you can use the `size` size method to know the size of each group).\n",
    "    <ul>\n",
    "      <li>Make sure the result is a DataFrame called `counts` with the columns 'district_name' and 'n_bike_stations'.</li>\n",
    "      <li>To go from a Series to a DataFrame, you can use the `reset_index` or `to_frame` method (both have a `name` keyword to specify a column name for the original Series values.\n",
    "    </ul>   \n",
    "   </li>\n",
    "  <li>Add those counts to the original `districts` dataframe, creating a new `districts2` dataframe (tip: this is a merge operation).</li>\n",
    "  <li>Calculate a new column 'n_bike_stations_by_area'.</li>\n",
    "  <li>Make a plot showing the density in bike stations of the districts.</li>  \n",
    " </ul> \n",
    " </p>\n",
    " \n",
    "</div>"
   ]
  },
  {
   "cell_type": "code",
   "execution_count": 27,
   "metadata": {},
   "outputs": [],
   "source": [
    "joined = geopandas.sjoin(stations, districts,\n",
    "                op='within',how='left')"
   ]
  },
  {
   "cell_type": "code",
   "execution_count": 28,
   "metadata": {},
   "outputs": [
    {
     "data": {
      "text/plain": [
       "\u001b[0;31mSignature:\u001b[0m \u001b[0mgeopandas\u001b[0m\u001b[0;34m.\u001b[0m\u001b[0msjoin\u001b[0m\u001b[0;34m(\u001b[0m\u001b[0mleft_df\u001b[0m\u001b[0;34m,\u001b[0m \u001b[0mright_df\u001b[0m\u001b[0;34m,\u001b[0m \u001b[0mhow\u001b[0m\u001b[0;34m=\u001b[0m\u001b[0;34m'inner'\u001b[0m\u001b[0;34m,\u001b[0m \u001b[0mop\u001b[0m\u001b[0;34m=\u001b[0m\u001b[0;34m'intersects'\u001b[0m\u001b[0;34m,\u001b[0m \u001b[0mlsuffix\u001b[0m\u001b[0;34m=\u001b[0m\u001b[0;34m'left'\u001b[0m\u001b[0;34m,\u001b[0m \u001b[0mrsuffix\u001b[0m\u001b[0;34m=\u001b[0m\u001b[0;34m'right'\u001b[0m\u001b[0;34m)\u001b[0m\u001b[0;34m\u001b[0m\u001b[0m\n",
       "\u001b[0;31mDocstring:\u001b[0m\n",
       "Spatial join of two GeoDataFrames.\n",
       "\n",
       "Parameters\n",
       "----------\n",
       "left_df, right_df : GeoDataFrames\n",
       "how : string, default 'inner'\n",
       "    The type of join:\n",
       "\n",
       "    * 'left': use keys from left_df; retain only left_df geometry column\n",
       "    * 'right': use keys from right_df; retain only right_df geometry column\n",
       "    * 'inner': use intersection of keys from both dfs; retain only\n",
       "      left_df geometry column\n",
       "op : string, default 'intersection'\n",
       "    Binary predicate, one of {'intersects', 'contains', 'within'}.\n",
       "    See http://toblerity.org/shapely/manual.html#binary-predicates.\n",
       "lsuffix : string, default 'left'\n",
       "    Suffix to apply to overlapping column names (left GeoDataFrame).\n",
       "rsuffix : string, default 'right'\n",
       "    Suffix to apply to overlapping column names (right GeoDataFrame).\n",
       "\u001b[0;31mFile:\u001b[0m      /anaconda3/envs/geopandas/lib/python3.6/site-packages/geopandas/tools/sjoin.py\n",
       "\u001b[0;31mType:\u001b[0m      function\n"
      ]
     },
     "metadata": {},
     "output_type": "display_data"
    }
   ],
   "source": [
    "geopandas.sjoin?"
   ]
  },
  {
   "cell_type": "code",
   "execution_count": 29,
   "metadata": {},
   "outputs": [
    {
     "data": {
      "text/html": [
       "<div>\n",
       "<style scoped>\n",
       "    .dataframe tbody tr th:only-of-type {\n",
       "        vertical-align: middle;\n",
       "    }\n",
       "\n",
       "    .dataframe tbody tr th {\n",
       "        vertical-align: top;\n",
       "    }\n",
       "\n",
       "    .dataframe thead th {\n",
       "        text-align: right;\n",
       "    }\n",
       "</style>\n",
       "<table border=\"1\" class=\"dataframe\">\n",
       "  <thead>\n",
       "    <tr style=\"text-align: right;\">\n",
       "      <th></th>\n",
       "      <th>name</th>\n",
       "      <th>bike_stands</th>\n",
       "      <th>available_bikes</th>\n",
       "      <th>geometry</th>\n",
       "      <th>index_right</th>\n",
       "      <th>id</th>\n",
       "      <th>district_name</th>\n",
       "      <th>population</th>\n",
       "    </tr>\n",
       "  </thead>\n",
       "  <tbody>\n",
       "    <tr>\n",
       "      <th>0</th>\n",
       "      <td>14002 - RASPAIL QUINET</td>\n",
       "      <td>44</td>\n",
       "      <td>4</td>\n",
       "      <td>POINT (450804.448740735 5409797.268203795)</td>\n",
       "      <td>52.0</td>\n",
       "      <td>53.0</td>\n",
       "      <td>Montparnasse</td>\n",
       "      <td>18570.0</td>\n",
       "    </tr>\n",
       "    <tr>\n",
       "      <th>1</th>\n",
       "      <td>20503 - COURS DE VINCENNES PYRÉNÉES</td>\n",
       "      <td>21</td>\n",
       "      <td>3</td>\n",
       "      <td>POINT (456414.3523840572 5410698.461014213)</td>\n",
       "      <td>79.0</td>\n",
       "      <td>80.0</td>\n",
       "      <td>Charonne</td>\n",
       "      <td>62901.0</td>\n",
       "    </tr>\n",
       "    <tr>\n",
       "      <th>2</th>\n",
       "      <td>20011 - PYRÉNÉES-DAGORNO</td>\n",
       "      <td>21</td>\n",
       "      <td>0</td>\n",
       "      <td>POINT (456366.9088116739 5411563.319737446)</td>\n",
       "      <td>79.0</td>\n",
       "      <td>80.0</td>\n",
       "      <td>Charonne</td>\n",
       "      <td>62901.0</td>\n",
       "    </tr>\n",
       "    <tr>\n",
       "      <th>3</th>\n",
       "      <td>31008 - VINCENNES (MONTREUIL)</td>\n",
       "      <td>56</td>\n",
       "      <td>0</td>\n",
       "      <td>POINT (458730.7071295079 5411789.995450836)</td>\n",
       "      <td>NaN</td>\n",
       "      <td>NaN</td>\n",
       "      <td>NaN</td>\n",
       "      <td>NaN</td>\n",
       "    </tr>\n",
       "    <tr>\n",
       "      <th>4</th>\n",
       "      <td>43006 - MINIMES (VINCENNES)</td>\n",
       "      <td>28</td>\n",
       "      <td>27</td>\n",
       "      <td>POINT (458234.9299846432 5409991.066579348)</td>\n",
       "      <td>NaN</td>\n",
       "      <td>NaN</td>\n",
       "      <td>NaN</td>\n",
       "      <td>NaN</td>\n",
       "    </tr>\n",
       "  </tbody>\n",
       "</table>\n",
       "</div>"
      ],
      "text/plain": [
       "                                  name  bike_stands  available_bikes  \\\n",
       "0               14002 - RASPAIL QUINET           44                4   \n",
       "1  20503 - COURS DE VINCENNES PYRÉNÉES           21                3   \n",
       "2             20011 - PYRÉNÉES-DAGORNO           21                0   \n",
       "3        31008 - VINCENNES (MONTREUIL)           56                0   \n",
       "4          43006 - MINIMES (VINCENNES)           28               27   \n",
       "\n",
       "                                      geometry  index_right    id  \\\n",
       "0   POINT (450804.448740735 5409797.268203795)         52.0  53.0   \n",
       "1  POINT (456414.3523840572 5410698.461014213)         79.0  80.0   \n",
       "2  POINT (456366.9088116739 5411563.319737446)         79.0  80.0   \n",
       "3  POINT (458730.7071295079 5411789.995450836)          NaN   NaN   \n",
       "4  POINT (458234.9299846432 5409991.066579348)          NaN   NaN   \n",
       "\n",
       "  district_name  population  \n",
       "0  Montparnasse     18570.0  \n",
       "1      Charonne     62901.0  \n",
       "2      Charonne     62901.0  \n",
       "3           NaN         NaN  \n",
       "4           NaN         NaN  "
      ]
     },
     "execution_count": 29,
     "metadata": {},
     "output_type": "execute_result"
    }
   ],
   "source": [
    "joined.head()"
   ]
  },
  {
   "cell_type": "code",
   "execution_count": 30,
   "metadata": {},
   "outputs": [],
   "source": [
    "counts = joined.groupby('district_name')['bike_stands'].size()"
   ]
  },
  {
   "cell_type": "code",
   "execution_count": 32,
   "metadata": {},
   "outputs": [
    {
     "data": {
      "text/html": [
       "<div>\n",
       "<style scoped>\n",
       "    .dataframe tbody tr th:only-of-type {\n",
       "        vertical-align: middle;\n",
       "    }\n",
       "\n",
       "    .dataframe tbody tr th {\n",
       "        vertical-align: top;\n",
       "    }\n",
       "\n",
       "    .dataframe thead th {\n",
       "        text-align: right;\n",
       "    }\n",
       "</style>\n",
       "<table border=\"1\" class=\"dataframe\">\n",
       "  <thead>\n",
       "    <tr style=\"text-align: right;\">\n",
       "      <th></th>\n",
       "      <th>n_bike_stations</th>\n",
       "    </tr>\n",
       "    <tr>\n",
       "      <th>district_name</th>\n",
       "      <th></th>\n",
       "    </tr>\n",
       "  </thead>\n",
       "  <tbody>\n",
       "    <tr>\n",
       "      <th>Amérique</th>\n",
       "      <td>17</td>\n",
       "    </tr>\n",
       "    <tr>\n",
       "      <th>Archives</th>\n",
       "      <td>4</td>\n",
       "    </tr>\n",
       "    <tr>\n",
       "      <th>Arsenal</th>\n",
       "      <td>7</td>\n",
       "    </tr>\n",
       "    <tr>\n",
       "      <th>Arts-et-Metiers</th>\n",
       "      <td>4</td>\n",
       "    </tr>\n",
       "    <tr>\n",
       "      <th>Auteuil</th>\n",
       "      <td>21</td>\n",
       "    </tr>\n",
       "    <tr>\n",
       "      <th>...</th>\n",
       "      <td>...</td>\n",
       "    </tr>\n",
       "    <tr>\n",
       "      <th>St-Germain-l'Auxerrois</th>\n",
       "      <td>4</td>\n",
       "    </tr>\n",
       "    <tr>\n",
       "      <th>Ternes</th>\n",
       "      <td>18</td>\n",
       "    </tr>\n",
       "    <tr>\n",
       "      <th>Val-de-Grace</th>\n",
       "      <td>7</td>\n",
       "    </tr>\n",
       "    <tr>\n",
       "      <th>Villette</th>\n",
       "      <td>14</td>\n",
       "    </tr>\n",
       "    <tr>\n",
       "      <th>Vivienne</th>\n",
       "      <td>7</td>\n",
       "    </tr>\n",
       "  </tbody>\n",
       "</table>\n",
       "<p>80 rows × 1 columns</p>\n",
       "</div>"
      ],
      "text/plain": [
       "                        n_bike_stations\n",
       "district_name                          \n",
       "Amérique                             17\n",
       "Archives                              4\n",
       "Arsenal                               7\n",
       "Arts-et-Metiers                       4\n",
       "Auteuil                              21\n",
       "...                                 ...\n",
       "St-Germain-l'Auxerrois                4\n",
       "Ternes                               18\n",
       "Val-de-Grace                          7\n",
       "Villette                             14\n",
       "Vivienne                              7\n",
       "\n",
       "[80 rows x 1 columns]"
      ]
     },
     "execution_count": 32,
     "metadata": {},
     "output_type": "execute_result"
    }
   ],
   "source": [
    "dfcounts = counts.to_frame(name='n_bike_stations')\n",
    "dfcounts"
   ]
  },
  {
   "cell_type": "code",
   "execution_count": 33,
   "metadata": {},
   "outputs": [],
   "source": [
    "dfcounts['district_name'] = dfcounts.index"
   ]
  },
  {
   "cell_type": "code",
   "execution_count": 34,
   "metadata": {},
   "outputs": [
    {
     "data": {
      "text/html": [
       "<div>\n",
       "<style scoped>\n",
       "    .dataframe tbody tr th:only-of-type {\n",
       "        vertical-align: middle;\n",
       "    }\n",
       "\n",
       "    .dataframe tbody tr th {\n",
       "        vertical-align: top;\n",
       "    }\n",
       "\n",
       "    .dataframe thead th {\n",
       "        text-align: right;\n",
       "    }\n",
       "</style>\n",
       "<table border=\"1\" class=\"dataframe\">\n",
       "  <thead>\n",
       "    <tr style=\"text-align: right;\">\n",
       "      <th></th>\n",
       "      <th>id</th>\n",
       "      <th>district_name</th>\n",
       "      <th>population</th>\n",
       "      <th>geometry</th>\n",
       "    </tr>\n",
       "  </thead>\n",
       "  <tbody>\n",
       "    <tr>\n",
       "      <th>0</th>\n",
       "      <td>1</td>\n",
       "      <td>St-Germain-l'Auxerrois</td>\n",
       "      <td>1672</td>\n",
       "      <td>POLYGON ((451922.1333912524 5411438.484355546,...</td>\n",
       "    </tr>\n",
       "    <tr>\n",
       "      <th>1</th>\n",
       "      <td>2</td>\n",
       "      <td>Halles</td>\n",
       "      <td>8984</td>\n",
       "      <td>POLYGON ((452278.4194036503 5412160.89282334, ...</td>\n",
       "    </tr>\n",
       "    <tr>\n",
       "      <th>2</th>\n",
       "      <td>3</td>\n",
       "      <td>Palais-Royal</td>\n",
       "      <td>3195</td>\n",
       "      <td>POLYGON ((451553.8057660239 5412340.522224233,...</td>\n",
       "    </tr>\n",
       "    <tr>\n",
       "      <th>3</th>\n",
       "      <td>4</td>\n",
       "      <td>Place-Vendôme</td>\n",
       "      <td>3044</td>\n",
       "      <td>POLYGON ((451004.907944323 5412654.094913081, ...</td>\n",
       "    </tr>\n",
       "    <tr>\n",
       "      <th>4</th>\n",
       "      <td>5</td>\n",
       "      <td>Gaillon</td>\n",
       "      <td>1345</td>\n",
       "      <td>POLYGON ((451328.7522686935 5412991.278156867,...</td>\n",
       "    </tr>\n",
       "  </tbody>\n",
       "</table>\n",
       "</div>"
      ],
      "text/plain": [
       "   id           district_name  population  \\\n",
       "0   1  St-Germain-l'Auxerrois        1672   \n",
       "1   2                  Halles        8984   \n",
       "2   3            Palais-Royal        3195   \n",
       "3   4           Place-Vendôme        3044   \n",
       "4   5                 Gaillon        1345   \n",
       "\n",
       "                                            geometry  \n",
       "0  POLYGON ((451922.1333912524 5411438.484355546,...  \n",
       "1  POLYGON ((452278.4194036503 5412160.89282334, ...  \n",
       "2  POLYGON ((451553.8057660239 5412340.522224233,...  \n",
       "3  POLYGON ((451004.907944323 5412654.094913081, ...  \n",
       "4  POLYGON ((451328.7522686935 5412991.278156867,...  "
      ]
     },
     "execution_count": 34,
     "metadata": {},
     "output_type": "execute_result"
    }
   ],
   "source": [
    "districts.head()"
   ]
  },
  {
   "cell_type": "code",
   "execution_count": 36,
   "metadata": {},
   "outputs": [
    {
     "name": "stderr",
     "output_type": "stream",
     "text": [
      "/anaconda3/envs/geopandas/lib/python3.6/site-packages/IPython/core/interactiveshell.py:3267: FutureWarning: 'district_name' is both an index level and a column label.\n",
      "Defaulting to column, but this will raise an ambiguity error in a future version\n",
      "  exec(code_obj, self.user_global_ns, self.user_ns)\n"
     ]
    }
   ],
   "source": [
    "districts2 = pd.merge(dfcounts, districts, on='district_name')"
   ]
  },
  {
   "cell_type": "code",
   "execution_count": 37,
   "metadata": {},
   "outputs": [
    {
     "data": {
      "text/html": [
       "<div>\n",
       "<style scoped>\n",
       "    .dataframe tbody tr th:only-of-type {\n",
       "        vertical-align: middle;\n",
       "    }\n",
       "\n",
       "    .dataframe tbody tr th {\n",
       "        vertical-align: top;\n",
       "    }\n",
       "\n",
       "    .dataframe thead th {\n",
       "        text-align: right;\n",
       "    }\n",
       "</style>\n",
       "<table border=\"1\" class=\"dataframe\">\n",
       "  <thead>\n",
       "    <tr style=\"text-align: right;\">\n",
       "      <th></th>\n",
       "      <th>n_bike_stations</th>\n",
       "      <th>district_name</th>\n",
       "      <th>id</th>\n",
       "      <th>population</th>\n",
       "      <th>geometry</th>\n",
       "    </tr>\n",
       "  </thead>\n",
       "  <tbody>\n",
       "    <tr>\n",
       "      <th>0</th>\n",
       "      <td>17</td>\n",
       "      <td>Amérique</td>\n",
       "      <td>75</td>\n",
       "      <td>55365</td>\n",
       "      <td>POLYGON ((456698.7712366731 5414305.564307321,...</td>\n",
       "    </tr>\n",
       "    <tr>\n",
       "      <th>1</th>\n",
       "      <td>4</td>\n",
       "      <td>Archives</td>\n",
       "      <td>11</td>\n",
       "      <td>8609</td>\n",
       "      <td>POLYGON ((453675.9675547979 5411621.632537843,...</td>\n",
       "    </tr>\n",
       "    <tr>\n",
       "      <th>2</th>\n",
       "      <td>7</td>\n",
       "      <td>Arsenal</td>\n",
       "      <td>15</td>\n",
       "      <td>9474</td>\n",
       "      <td>POLYGON ((453678.2733823431 5411610.865300431,...</td>\n",
       "    </tr>\n",
       "    <tr>\n",
       "      <th>3</th>\n",
       "      <td>4</td>\n",
       "      <td>Arts-et-Metiers</td>\n",
       "      <td>9</td>\n",
       "      <td>9560</td>\n",
       "      <td>POLYGON ((453078.1086852358 5412667.110192569,...</td>\n",
       "    </tr>\n",
       "    <tr>\n",
       "      <th>4</th>\n",
       "      <td>21</td>\n",
       "      <td>Auteuil</td>\n",
       "      <td>61</td>\n",
       "      <td>67967</td>\n",
       "      <td>POLYGON ((444930.4989573474 5411923.067114253,...</td>\n",
       "    </tr>\n",
       "  </tbody>\n",
       "</table>\n",
       "</div>"
      ],
      "text/plain": [
       "   n_bike_stations    district_name  id  population  \\\n",
       "0               17         Amérique  75       55365   \n",
       "1                4         Archives  11        8609   \n",
       "2                7          Arsenal  15        9474   \n",
       "3                4  Arts-et-Metiers   9        9560   \n",
       "4               21          Auteuil  61       67967   \n",
       "\n",
       "                                            geometry  \n",
       "0  POLYGON ((456698.7712366731 5414305.564307321,...  \n",
       "1  POLYGON ((453675.9675547979 5411621.632537843,...  \n",
       "2  POLYGON ((453678.2733823431 5411610.865300431,...  \n",
       "3  POLYGON ((453078.1086852358 5412667.110192569,...  \n",
       "4  POLYGON ((444930.4989573474 5411923.067114253,...  "
      ]
     },
     "execution_count": 37,
     "metadata": {},
     "output_type": "execute_result"
    }
   ],
   "source": [
    "districts2.head()"
   ]
  },
  {
   "cell_type": "code",
   "execution_count": 40,
   "metadata": {},
   "outputs": [
    {
     "data": {
      "text/plain": [
       "pandas.core.frame.DataFrame"
      ]
     },
     "execution_count": 40,
     "metadata": {},
     "output_type": "execute_result"
    }
   ],
   "source": [
    "type(districts2)"
   ]
  },
  {
   "cell_type": "code",
   "execution_count": 42,
   "metadata": {},
   "outputs": [],
   "source": [
    "districts2 = geopandas.GeoDataFrame(districts2)"
   ]
  },
  {
   "cell_type": "code",
   "execution_count": 43,
   "metadata": {},
   "outputs": [],
   "source": [
    "districts2['bike_stations_by_area'] = districts2['n_bike_stations'] / (\n",
    "        districts2['geometry'].area)"
   ]
  },
  {
   "cell_type": "code",
   "execution_count": 44,
   "metadata": {},
   "outputs": [
    {
     "data": {
      "text/html": [
       "<div>\n",
       "<style scoped>\n",
       "    .dataframe tbody tr th:only-of-type {\n",
       "        vertical-align: middle;\n",
       "    }\n",
       "\n",
       "    .dataframe tbody tr th {\n",
       "        vertical-align: top;\n",
       "    }\n",
       "\n",
       "    .dataframe thead th {\n",
       "        text-align: right;\n",
       "    }\n",
       "</style>\n",
       "<table border=\"1\" class=\"dataframe\">\n",
       "  <thead>\n",
       "    <tr style=\"text-align: right;\">\n",
       "      <th></th>\n",
       "      <th>n_bike_stations</th>\n",
       "      <th>district_name</th>\n",
       "      <th>id</th>\n",
       "      <th>population</th>\n",
       "      <th>geometry</th>\n",
       "      <th>bike_stations_by_area</th>\n",
       "    </tr>\n",
       "  </thead>\n",
       "  <tbody>\n",
       "    <tr>\n",
       "      <th>0</th>\n",
       "      <td>17</td>\n",
       "      <td>Amérique</td>\n",
       "      <td>75</td>\n",
       "      <td>55365</td>\n",
       "      <td>POLYGON ((456698.7712366731 5414305.564307321,...</td>\n",
       "      <td>0.000009</td>\n",
       "    </tr>\n",
       "    <tr>\n",
       "      <th>1</th>\n",
       "      <td>4</td>\n",
       "      <td>Archives</td>\n",
       "      <td>11</td>\n",
       "      <td>8609</td>\n",
       "      <td>POLYGON ((453675.9675547979 5411621.632537843,...</td>\n",
       "      <td>0.000011</td>\n",
       "    </tr>\n",
       "    <tr>\n",
       "      <th>2</th>\n",
       "      <td>7</td>\n",
       "      <td>Arsenal</td>\n",
       "      <td>15</td>\n",
       "      <td>9474</td>\n",
       "      <td>POLYGON ((453678.2733823431 5411610.865300431,...</td>\n",
       "      <td>0.000014</td>\n",
       "    </tr>\n",
       "    <tr>\n",
       "      <th>3</th>\n",
       "      <td>4</td>\n",
       "      <td>Arts-et-Metiers</td>\n",
       "      <td>9</td>\n",
       "      <td>9560</td>\n",
       "      <td>POLYGON ((453078.1086852358 5412667.110192569,...</td>\n",
       "      <td>0.000013</td>\n",
       "    </tr>\n",
       "    <tr>\n",
       "      <th>4</th>\n",
       "      <td>21</td>\n",
       "      <td>Auteuil</td>\n",
       "      <td>61</td>\n",
       "      <td>67967</td>\n",
       "      <td>POLYGON ((444930.4989573474 5411923.067114253,...</td>\n",
       "      <td>0.000003</td>\n",
       "    </tr>\n",
       "    <tr>\n",
       "      <th>...</th>\n",
       "      <td>...</td>\n",
       "      <td>...</td>\n",
       "      <td>...</td>\n",
       "      <td>...</td>\n",
       "      <td>...</td>\n",
       "      <td>...</td>\n",
       "    </tr>\n",
       "    <tr>\n",
       "      <th>75</th>\n",
       "      <td>4</td>\n",
       "      <td>St-Germain-l'Auxerrois</td>\n",
       "      <td>1</td>\n",
       "      <td>1672</td>\n",
       "      <td>POLYGON ((451922.1333912524 5411438.484355546,...</td>\n",
       "      <td>0.000005</td>\n",
       "    </tr>\n",
       "    <tr>\n",
       "      <th>76</th>\n",
       "      <td>18</td>\n",
       "      <td>Ternes</td>\n",
       "      <td>65</td>\n",
       "      <td>39137</td>\n",
       "      <td>POLYGON ((448307.4246711035 5413664.062483684,...</td>\n",
       "      <td>0.000012</td>\n",
       "    </tr>\n",
       "    <tr>\n",
       "      <th>77</th>\n",
       "      <td>7</td>\n",
       "      <td>Val-de-Grace</td>\n",
       "      <td>19</td>\n",
       "      <td>19492</td>\n",
       "      <td>POLYGON ((451978.8994842967 5410440.076632559,...</td>\n",
       "      <td>0.000010</td>\n",
       "    </tr>\n",
       "    <tr>\n",
       "      <th>78</th>\n",
       "      <td>14</td>\n",
       "      <td>Villette</td>\n",
       "      <td>73</td>\n",
       "      <td>53650</td>\n",
       "      <td>POLYGON ((453844.6374796607 5414106.7643801, 4...</td>\n",
       "      <td>0.000011</td>\n",
       "    </tr>\n",
       "    <tr>\n",
       "      <th>79</th>\n",
       "      <td>7</td>\n",
       "      <td>Vivienne</td>\n",
       "      <td>6</td>\n",
       "      <td>2917</td>\n",
       "      <td>POLYGON ((451686.9362263631 5412747.032326277,...</td>\n",
       "      <td>0.000029</td>\n",
       "    </tr>\n",
       "  </tbody>\n",
       "</table>\n",
       "<p>80 rows × 6 columns</p>\n",
       "</div>"
      ],
      "text/plain": [
       "    n_bike_stations           district_name  id  population  \\\n",
       "0                17                Amérique  75       55365   \n",
       "1                 4                Archives  11        8609   \n",
       "2                 7                 Arsenal  15        9474   \n",
       "3                 4         Arts-et-Metiers   9        9560   \n",
       "4                21                 Auteuil  61       67967   \n",
       "..              ...                     ...  ..         ...   \n",
       "75                4  St-Germain-l'Auxerrois   1        1672   \n",
       "76               18                  Ternes  65       39137   \n",
       "77                7            Val-de-Grace  19       19492   \n",
       "78               14                Villette  73       53650   \n",
       "79                7                Vivienne   6        2917   \n",
       "\n",
       "                                             geometry  bike_stations_by_area  \n",
       "0   POLYGON ((456698.7712366731 5414305.564307321,...               0.000009  \n",
       "1   POLYGON ((453675.9675547979 5411621.632537843,...               0.000011  \n",
       "2   POLYGON ((453678.2733823431 5411610.865300431,...               0.000014  \n",
       "3   POLYGON ((453078.1086852358 5412667.110192569,...               0.000013  \n",
       "4   POLYGON ((444930.4989573474 5411923.067114253,...               0.000003  \n",
       "..                                                ...                    ...  \n",
       "75  POLYGON ((451922.1333912524 5411438.484355546,...               0.000005  \n",
       "76  POLYGON ((448307.4246711035 5413664.062483684,...               0.000012  \n",
       "77  POLYGON ((451978.8994842967 5410440.076632559,...               0.000010  \n",
       "78  POLYGON ((453844.6374796607 5414106.7643801, 4...               0.000011  \n",
       "79  POLYGON ((451686.9362263631 5412747.032326277,...               0.000029  \n",
       "\n",
       "[80 rows x 6 columns]"
      ]
     },
     "execution_count": 44,
     "metadata": {},
     "output_type": "execute_result"
    }
   ],
   "source": [
    "districts2"
   ]
  },
  {
   "cell_type": "code",
   "execution_count": 52,
   "metadata": {},
   "outputs": [
    {
     "data": {
      "text/plain": [
       "Text(0.5, 1.0, 'Bike Station Density by District')"
      ]
     },
     "execution_count": 52,
     "metadata": {},
     "output_type": "execute_result"
    },
    {
     "data": {
      "image/png": "[encoded data removed]",
      "text/plain": [
       "<Figure size 931.968x576 with 2 Axes>"
      ]
     },
     "metadata": {
      "needs_background": "light"
     },
     "output_type": "display_data"
    }
   ],
   "source": [
    "ax = districts2.plot(column='bike_stations_by_area',\n",
    "                    legend=True,figsize=(1.618*8,8))\n",
    "ax.set_axis_off()\n",
    "ax.set_title('Bike Station Density by District')"
   ]
  },
  {
   "cell_type": "code",
   "execution_count": null,
   "metadata": {
    "clear_cell": true
   },
   "outputs": [],
   "source": [
    "# %load _solved/solutions/03-spatial-joins14.py"
   ]
  },
  {
   "cell_type": "code",
   "execution_count": null,
   "metadata": {
    "clear_cell": true
   },
   "outputs": [],
   "source": [
    "# %load _solved/solutions/03-spatial-joins15.py"
   ]
  },
  {
   "cell_type": "code",
   "execution_count": null,
   "metadata": {
    "clear_cell": true
   },
   "outputs": [],
   "source": [
    "# %load _solved/solutions/03-spatial-joins16.py"
   ]
  },
  {
   "cell_type": "code",
   "execution_count": null,
   "metadata": {
    "clear_cell": true
   },
   "outputs": [],
   "source": [
    "# %load _solved/solutions/03-spatial-joins17.py"
   ]
  },
  {
   "cell_type": "code",
   "execution_count": null,
   "metadata": {
    "clear_cell": true
   },
   "outputs": [],
   "source": [
    "# %load _solved/solutions/03-spatial-joins18.py"
   ]
  },
  {
   "cell_type": "code",
   "execution_count": null,
   "metadata": {
    "clear_cell": true
   },
   "outputs": [],
   "source": [
    "# %load _solved/solutions/03-spatial-joins19.py"
   ]
  },
  {
   "cell_type": "code",
   "execution_count": null,
   "metadata": {
    "clear_cell": true
   },
   "outputs": [],
   "source": [
    "# %load _solved/solutions/03-spatial-joins20.py"
   ]
  },
  {
   "cell_type": "markdown",
   "metadata": {},
   "source": [
    "## The overlay operation\n",
    "\n",
    "In the spatial join operation above, we are not changing the geometries itself. We are not joining geometries, but joining attributes based on a spatial relationship between the geometries. This also means that the geometries need to at least overlap partially.\n",
    "\n",
    "If you want to create new geometries based on joining (combining) geometries of different dataframes into one new dataframe (eg by taking the intersection of the geometries), you want an **overlay** operation."
   ]
  },
  {
   "cell_type": "code",
   "execution_count": null,
   "metadata": {},
   "outputs": [],
   "source": [
    "africa = countries[countries['continent'] == 'Africa']"
   ]
  },
  {
   "cell_type": "code",
   "execution_count": null,
   "metadata": {},
   "outputs": [],
   "source": [
    "africa.plot()"
   ]
  },
  {
   "cell_type": "code",
   "execution_count": null,
   "metadata": {},
   "outputs": [],
   "source": [
    "cities['geometry'] = cities.buffer(2)"
   ]
  },
  {
   "cell_type": "code",
   "execution_count": null,
   "metadata": {},
   "outputs": [],
   "source": [
    "geopandas.overlay(africa, cities, how='difference').plot()"
   ]
  },
  {
   "cell_type": "markdown",
   "metadata": {},
   "source": [
    "<div class=\"alert alert-info\" style=\"font-size:120%\">\n",
    "<b>REMEMBER</b> <br>\n",
    "\n",
    "<ul>\n",
    "  <li>**Spatial join**: transfer attributes from one dataframe to another based on the spatial relationship</li>\n",
    "  <li>**Spatial overlay**: construct new geometries based on spatial operation between both dataframes (and combining attributes of both dataframes)</li>\n",
    "</ul>\n",
    "\n",
    "</div>"
   ]
  }
 ],
 "metadata": {
  "kernelspec": {
   "display_name": "Python [conda env:geopandas]",
   "language": "python",
   "name": "conda-env-geopandas-py"
  },
  "language_info": {
   "codemirror_mode": {
    "name": "ipython",
    "version": 3
   },
   "file_extension": ".py",
   "mimetype": "text/x-python",
   "name": "python",
   "nbconvert_exporter": "python",
   "pygments_lexer": "ipython3",
   "version": "3.6.6"
  }
 },
 "nbformat": 4,
 "nbformat_minor": 2
}
